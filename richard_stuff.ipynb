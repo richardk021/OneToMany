{
 "cells": [
  {
   "cell_type": "code",
   "execution_count": 42,
   "id": "6555589c",
   "metadata": {},
   "outputs": [],
   "source": [
    "import numpy as np\n",
    "import pandas as pd\n",
    "import matplotlib.pyplot as plt\n",
    "import seaborn as sns\n",
    "%matplotlib inline"
   ]
  },
  {
   "cell_type": "code",
   "execution_count": 100,
   "id": "8c825696",
   "metadata": {},
   "outputs": [],
   "source": [
    "data = [{ 'month': 'Jan', 'spending': 1000, 'earning': 2000 },\n",
    "    { 'month': 'Feb', 'spending': 2000, 'earning': 2500 },\n",
    "    { 'month': 'Mar', 'spending': 1500, 'earning': 1800 },\n",
    "    { 'month': 'Apr', 'spending': 2500, 'earning': 2200 },\n",
    "    { 'month': 'May', 'spending': 1800, 'earning': 2800 },\n",
    "    { 'month': 'Jun', 'spending': 2000, 'earning': 2600 },\n",
    "    { 'month': 'Jul', 'spending': 1700, 'earning': 2800 },\n",
    "    { 'month': 'Aug', 'spending': 2200, 'earning': 2300 },\n",
    "    { 'month': 'Sep', 'spending': 1900, 'earning': 2700 },\n",
    "    { 'month': 'Oct', 'spending': 2300, 'earning': 2400 },\n",
    "    { 'month': 'Nov', 'spending': 2000, 'earning': 3000 },\n",
    "    { 'month': 'Dec', 'spending': 2500, 'earning': 2800 },\n",
    "  ]"
   ]
  },
  {
   "cell_type": "code",
   "execution_count": 101,
   "id": "eb1d9381",
   "metadata": {},
   "outputs": [
    {
     "name": "stdout",
     "output_type": "stream",
     "text": [
      "Jan 1000 2000\n",
      "Feb 2000 2500\n",
      "Mar 1500 1800\n",
      "Apr 2500 2200\n",
      "May 1800 2800\n",
      "Jun 2000 2600\n",
      "Jul 1700 2800\n",
      "Aug 2200 2300\n",
      "Sep 1900 2700\n",
      "Oct 2300 2400\n",
      "Nov 2000 3000\n",
      "Dec 2500 2800\n"
     ]
    }
   ],
   "source": [
    "cleaned_dic = {'month':[], 'spending':[], 'earning':[]}\n",
    "\n",
    "for d in data:\n",
    "    cleaned_dic['month'].append(d['month'])\n",
    "    cleaned_dic['spending'].append(d['spending'])\n",
    "    cleaned_dic['earning'].append(d['earning'])\n",
    "    print(d['month'], d['spending'], d['earning'])"
   ]
  },
  {
   "cell_type": "code",
   "execution_count": 102,
   "id": "39bcb4aa",
   "metadata": {},
   "outputs": [],
   "source": [
    "df = pd.DataFrame(cleaned_dic)"
   ]
  },
  {
   "cell_type": "code",
   "execution_count": 103,
   "id": "81dd2218",
   "metadata": {},
   "outputs": [],
   "source": [
    "def get_balance(data):\n",
    "    s = data[0]\n",
    "    e = data[1]\n",
    "    return e-s"
   ]
  },
  {
   "cell_type": "code",
   "execution_count": 104,
   "id": "f030fce8",
   "metadata": {},
   "outputs": [],
   "source": [
    "df['net'] = df[['spending', 'earning']].apply(get_balance, axis=1)"
   ]
  },
  {
   "cell_type": "code",
   "execution_count": 105,
   "id": "465dc074",
   "metadata": {},
   "outputs": [],
   "source": [
    "balance = 0\n",
    "acc_balance = []\n",
    "for i, spend, earn in df[['spending', 'earning']].itertuples():\n",
    "    balance += earn - spend\n",
    "    acc_balance.append(balance)"
   ]
  },
  {
   "cell_type": "code",
   "execution_count": 106,
   "id": "d2201e9c",
   "metadata": {},
   "outputs": [],
   "source": [
    "df['balance'] = acc_balance"
   ]
  },
  {
   "cell_type": "code",
   "execution_count": 107,
   "id": "5a5cdfab",
   "metadata": {},
   "outputs": [
    {
     "data": {
      "text/html": [
       "<div>\n",
       "<style scoped>\n",
       "    .dataframe tbody tr th:only-of-type {\n",
       "        vertical-align: middle;\n",
       "    }\n",
       "\n",
       "    .dataframe tbody tr th {\n",
       "        vertical-align: top;\n",
       "    }\n",
       "\n",
       "    .dataframe thead th {\n",
       "        text-align: right;\n",
       "    }\n",
       "</style>\n",
       "<table border=\"1\" class=\"dataframe\">\n",
       "  <thead>\n",
       "    <tr style=\"text-align: right;\">\n",
       "      <th></th>\n",
       "      <th>month</th>\n",
       "      <th>spending</th>\n",
       "      <th>earning</th>\n",
       "      <th>net</th>\n",
       "      <th>balance</th>\n",
       "    </tr>\n",
       "  </thead>\n",
       "  <tbody>\n",
       "    <tr>\n",
       "      <th>0</th>\n",
       "      <td>Jan</td>\n",
       "      <td>1000</td>\n",
       "      <td>2000</td>\n",
       "      <td>1000</td>\n",
       "      <td>1000</td>\n",
       "    </tr>\n",
       "    <tr>\n",
       "      <th>1</th>\n",
       "      <td>Feb</td>\n",
       "      <td>2000</td>\n",
       "      <td>2500</td>\n",
       "      <td>500</td>\n",
       "      <td>1500</td>\n",
       "    </tr>\n",
       "    <tr>\n",
       "      <th>2</th>\n",
       "      <td>Mar</td>\n",
       "      <td>1500</td>\n",
       "      <td>1800</td>\n",
       "      <td>300</td>\n",
       "      <td>1800</td>\n",
       "    </tr>\n",
       "    <tr>\n",
       "      <th>3</th>\n",
       "      <td>Apr</td>\n",
       "      <td>2500</td>\n",
       "      <td>2200</td>\n",
       "      <td>-300</td>\n",
       "      <td>1500</td>\n",
       "    </tr>\n",
       "    <tr>\n",
       "      <th>4</th>\n",
       "      <td>May</td>\n",
       "      <td>1800</td>\n",
       "      <td>2800</td>\n",
       "      <td>1000</td>\n",
       "      <td>2500</td>\n",
       "    </tr>\n",
       "    <tr>\n",
       "      <th>5</th>\n",
       "      <td>Jun</td>\n",
       "      <td>2000</td>\n",
       "      <td>2600</td>\n",
       "      <td>600</td>\n",
       "      <td>3100</td>\n",
       "    </tr>\n",
       "    <tr>\n",
       "      <th>6</th>\n",
       "      <td>Jul</td>\n",
       "      <td>1700</td>\n",
       "      <td>2800</td>\n",
       "      <td>1100</td>\n",
       "      <td>4200</td>\n",
       "    </tr>\n",
       "    <tr>\n",
       "      <th>7</th>\n",
       "      <td>Aug</td>\n",
       "      <td>2200</td>\n",
       "      <td>2300</td>\n",
       "      <td>100</td>\n",
       "      <td>4300</td>\n",
       "    </tr>\n",
       "    <tr>\n",
       "      <th>8</th>\n",
       "      <td>Sep</td>\n",
       "      <td>1900</td>\n",
       "      <td>2700</td>\n",
       "      <td>800</td>\n",
       "      <td>5100</td>\n",
       "    </tr>\n",
       "    <tr>\n",
       "      <th>9</th>\n",
       "      <td>Oct</td>\n",
       "      <td>2300</td>\n",
       "      <td>2400</td>\n",
       "      <td>100</td>\n",
       "      <td>5200</td>\n",
       "    </tr>\n",
       "    <tr>\n",
       "      <th>10</th>\n",
       "      <td>Nov</td>\n",
       "      <td>2000</td>\n",
       "      <td>3000</td>\n",
       "      <td>1000</td>\n",
       "      <td>6200</td>\n",
       "    </tr>\n",
       "    <tr>\n",
       "      <th>11</th>\n",
       "      <td>Dec</td>\n",
       "      <td>2500</td>\n",
       "      <td>2800</td>\n",
       "      <td>300</td>\n",
       "      <td>6500</td>\n",
       "    </tr>\n",
       "  </tbody>\n",
       "</table>\n",
       "</div>"
      ],
      "text/plain": [
       "   month  spending  earning   net  balance\n",
       "0    Jan      1000     2000  1000     1000\n",
       "1    Feb      2000     2500   500     1500\n",
       "2    Mar      1500     1800   300     1800\n",
       "3    Apr      2500     2200  -300     1500\n",
       "4    May      1800     2800  1000     2500\n",
       "5    Jun      2000     2600   600     3100\n",
       "6    Jul      1700     2800  1100     4200\n",
       "7    Aug      2200     2300   100     4300\n",
       "8    Sep      1900     2700   800     5100\n",
       "9    Oct      2300     2400   100     5200\n",
       "10   Nov      2000     3000  1000     6200\n",
       "11   Dec      2500     2800   300     6500"
      ]
     },
     "execution_count": 107,
     "metadata": {},
     "output_type": "execute_result"
    }
   ],
   "source": [
    "df"
   ]
  },
  {
   "cell_type": "code",
   "execution_count": 109,
   "id": "fb021893",
   "metadata": {},
   "outputs": [
    {
     "data": {
      "text/plain": [
       "Text(0, 0.5, 'balance')"
      ]
     },
     "execution_count": 109,
     "metadata": {},
     "output_type": "execute_result"
    },
    {
     "data": {
      "image/png": "[encoded data removed]",
      "text/plain": [
       "<Figure size 800x600 with 1 Axes>"
      ]
     },
     "metadata": {},
     "output_type": "display_data"
    }
   ],
   "source": [
    "plt.figure(figsize=(8,6))\n",
    "x_values = df['month']\n",
    "y_values = df['balance']\n",
    "sns.set_style('whitegrid')\n",
    "sns.lineplot(x=x_values, y=y_values, marker='o', color='b')\n",
    "\n",
    "plt.title('account balance')\n",
    "plt.xlabel('month')\n",
    "plt.ylabel('balance')"
   ]
  },
  {
   "cell_type": "code",
   "execution_count": 51,
   "id": "d61a715f",
   "metadata": {},
   "outputs": [],
   "source": [
    "from sklearn.linear_model import LinearRegression"
   ]
  },
  {
   "cell_type": "code",
   "execution_count": 52,
   "id": "5b4fedff",
   "metadata": {},
   "outputs": [],
   "source": [
    "lm_balance = LinearRegression()"
   ]
  },
  {
   "cell_type": "code",
   "execution_count": 89,
   "id": "eae2d756",
   "metadata": {},
   "outputs": [],
   "source": [
    "X = np.array([i for i in range(1, 13)]).reshape(-1, 1)\n",
    "y = np.array(df['balance'])"
   ]
  },
  {
   "cell_type": "code",
   "execution_count": 92,
   "id": "e8a73630",
   "metadata": {},
   "outputs": [
    {
     "data": {
      "text/plain": [
       "LinearRegression()"
      ]
     },
     "execution_count": 92,
     "metadata": {},
     "output_type": "execute_result"
    }
   ],
   "source": [
    "lm_balance.fit(X, y)"
   ]
  },
  {
   "cell_type": "code",
   "execution_count": 132,
   "id": "8e228b9f",
   "metadata": {},
   "outputs": [],
   "source": [
    "m = lm_balance.coef_[0]\n",
    "c = lm_balance.intercept_"
   ]
  },
  {
   "cell_type": "code",
   "execution_count": 133,
   "id": "472ce3e3",
   "metadata": {},
   "outputs": [
    {
     "data": {
      "text/plain": [
       "Text(0, 0.5, 'balance')"
      ]
     },
     "execution_count": 133,
     "metadata": {},
     "output_type": "execute_result"
    },
    {
     "data": {
      "image/png": "[encoded data removed]",
      "text/plain": [
       "<Figure size 800x600 with 1 Axes>"
      ]
     },
     "metadata": {},
     "output_type": "display_data"
    }
   ],
   "source": [
    "plt.figure(figsize=(8,6))\n",
    "x_values = df['month']\n",
    "y_values = df['balance']\n",
    "pred = lm_balance.predict(X)\n",
    "\n",
    "sns.set_style('whitegrid')\n",
    "\n",
    "sns.lineplot(x=x_values, y=y_values, marker='o', color='b')\n",
    "sns.lineplot(x=x_values, y=pred, color='r')\n",
    "\n",
    "plt.title('account balance')\n",
    "plt.xlabel('month')\n",
    "plt.ylabel('balance')"
   ]
  },
  {
   "cell_type": "code",
   "execution_count": 134,
   "id": "436a1dbf",
   "metadata": {},
   "outputs": [],
   "source": [
    "index_month = {}\n",
    "for i in range(1,13):\n",
    "    index_month[i] = df['month'].iloc[i-1]"
   ]
  },
  {
   "cell_type": "code",
   "execution_count": 150,
   "id": "82bf72dd",
   "metadata": {},
   "outputs": [],
   "source": [
    "saving_goal = 20000\n",
    "date_year = 2023"
   ]
  },
  {
   "cell_type": "code",
   "execution_count": 151,
   "id": "86ce4943",
   "metadata": {},
   "outputs": [
    {
     "name": "stdout",
     "output_type": "stream",
     "text": [
      "Mar 2026\n"
     ]
    }
   ],
   "source": [
    "import math\n",
    "index = math.ceil((float(saving_goal) - c)/m)\n",
    "pred_month_i = index % 12 + 1\n",
    "pred_month = index_month[pred_month_i]\n",
    "pred_year = index // 12 + date_year\n",
    "print(pred_month, pred_year)"
   ]
  },
  {
   "cell_type": "markdown",
   "id": "d9b4ef3f",
   "metadata": {},
   "source": [
    "# For testing around"
   ]
  },
  {
   "cell_type": "code",
   "execution_count": 155,
   "id": "cfa04442",
   "metadata": {},
   "outputs": [],
   "source": [
    "pred_based_on_input = lm_balance.predict(np.array([38]).reshape(-1,1))"
   ]
  },
  {
   "cell_type": "code",
   "execution_count": 156,
   "id": "d2097ea4",
   "metadata": {},
   "outputs": [
    {
     "data": {
      "text/plain": [
       "array([20217.13286713])"
      ]
     },
     "execution_count": 156,
     "metadata": {},
     "output_type": "execute_result"
    }
   ],
   "source": [
    "pred_based_on_input"
   ]
  },
  {
   "cell_type": "code",
   "execution_count": null,
   "id": "23068b4e",
   "metadata": {},
   "outputs": [],
   "source": []
  }
 ],
 "metadata": {
  "kernelspec": {
   "display_name": "Python 3 (ipykernel)",
   "language": "python",
   "name": "python3"
  },
  "language_info": {
   "codemirror_mode": {
    "name": "ipython",
    "version": 3
   },
   "file_extension": ".py",
   "mimetype": "text/x-python",
   "name": "python",
   "nbconvert_exporter": "python",
   "pygments_lexer": "ipython3",
   "version": "3.9.13"
  }
 },
 "nbformat": 4,
 "nbformat_minor": 5
}
